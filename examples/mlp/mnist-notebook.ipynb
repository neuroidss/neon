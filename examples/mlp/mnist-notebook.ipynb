{
 "metadata": {
  "name": "",
  "signature": "sha256:5b504019c4de40048417375915fc7ee96b090a1a47ebfc7bcae16acbb5e80763"
 },
 "nbformat": 3,
 "nbformat_minor": 0,
 "worksheets": [
  {
   "cells": [
    {
     "cell_type": "markdown",
     "metadata": {},
     "source": [
      "# Simple example of running a MNIST MLP model in neon\n",
      "\n",
      "Step 1: Import the layers and other modules needed for the MNIST MLP model"
     ]
    },
    {
     "cell_type": "code",
     "collapsed": false,
     "input": [
      "%matplotlib inline\n",
      "\n",
      "# MNIST MLP example\n",
      "import logging\n",
      "\n",
      "logging.basicConfig(level=20)\n",
      "logger = logging.getLogger()\n",
      "\n",
      "from neon.backends import gen_backend\n",
      "from neon.layers import FCLayer, DataLayer, CostLayer\n",
      "from neon.models import MLP\n",
      "from neon.transforms import RectLin, Logistic, CrossEntropy\n",
      "from neon.datasets import MNIST\n",
      "from neon.experiments import FitPredictErrorExperiment"
     ],
     "language": "python",
     "metadata": {},
     "outputs": [
      {
       "output_type": "stream",
       "stream": "stderr",
       "text": [
        "INFO:neon.util.compat:using xrange as range\n"
       ]
      }
     ],
     "prompt_number": 2
    },
    {
     "cell_type": "markdown",
     "metadata": {},
     "source": [
      "Step 2: Run the model for 10 epochs and save the weights after each epoch"
     ]
    },
    {
     "cell_type": "code",
     "collapsed": false,
     "input": [
      "import shutil\n",
      "from os import remove\n",
      "import cPickle as pkl\n",
      "from os.path import expanduser, exists\n",
      "\n",
      "file_path = expanduser('~/data/MNIST/mnist-mlp.prm')\n",
      "if exists(file_path):\n",
      "    remove(file_path)\n",
      "train_err = []\n",
      "test_err = []\n",
      "max_epochs = 10\n",
      "\n",
      "for num_epochs in range(0,max_epochs+1): \n",
      "    # set up the layers\n",
      "    layers = []\n",
      "    layers.append(DataLayer(nout=784))\n",
      "    layers.append(FCLayer(nout=200, activation=RectLin()))\n",
      "    layers.append(FCLayer(nout=200, activation=RectLin()))\n",
      "    layers.append(FCLayer(nout=200, activation=RectLin()))\n",
      "    layers.append(FCLayer(nout=10, activation=Logistic()))\n",
      "    layers.append(CostLayer(cost=CrossEntropy()))\n",
      "\n",
      "    # set up the model and experiment\n",
      "    model = MLP(num_epochs=num_epochs, batch_size=128, layers=layers,\n",
      "                serialized_path=file_path)\n",
      "    # Uncomment line below to run on CPU backend\n",
      "    backend = gen_backend(rng_seed=0)\n",
      "    # Uncomment line below to run on GPU using cudanet backend\n",
      "    # backend = gen_backend(rng_seed=0, gpu='cudanet')\n",
      "    dataset = MNIST(repo_path='~/data/')\n",
      "    experiment = FitPredictErrorExperiment(model=model,\n",
      "                                           backend=backend,\n",
      "                                           dataset=dataset)\n",
      "\n",
      "    # Run the training, and dump weights\n",
      "    dest_path = expanduser('~/data/MNIST/mnist-ep' + str(num_epochs) + '.prm')\n",
      "    if num_epochs > 0:\n",
      "        res = experiment.run()\n",
      "        train_err.append(res['train']['MisclassPercentage_TOP_1'])\n",
      "        test_err.append(res['test']['MisclassPercentage_TOP_1'])\n",
      "        # Save the weights at this epoch\n",
      "        shutil.copy2(file_path, dest_path)\n",
      "\n",
      "    else:\n",
      "        params = layers[1].weights.asnumpyarray()\n",
      "        pkl.dump(params, open(dest_path,'w'))\n"
     ],
     "language": "python",
     "metadata": {},
     "outputs": [
      {
       "output_type": "stream",
       "stream": "stderr",
       "text": [
        "INFO:neon.backends:Cudanet backend, RNG seed: 0, numerr: None\n"
       ]
      },
      {
       "output_type": "stream",
       "stream": "stderr",
       "text": [
        "INFO:neon.models.mlp:Layers:\n",
        "\tDataLayer layer: 784 nodes\n",
        "\tFCLayer layer: 784 inputs, 200 nodes, RectLin act_fn\n",
        "\tFCLayer layer: 200 inputs, 200 nodes, RectLin act_fn\n",
        "\tFCLayer layer: 200 inputs, 200 nodes, RectLin act_fn\n",
        "\tFCLayer layer: 200 inputs, 10 nodes, Logistic act_fn\n",
        "\tCostLayer layer: 10 nodes, CrossEntropy cost_fn\n",
        "\n"
       ]
      },
      {
       "output_type": "stream",
       "stream": "stderr",
       "text": [
        "INFO:neon.params.val_init:Generating GaussianValGen values of shape (200, 784)\n"
       ]
      },
      {
       "output_type": "stream",
       "stream": "stderr",
       "text": [
        "INFO:neon.params.val_init:Generating GaussianValGen values of shape (200, 200)\n"
       ]
      },
      {
       "output_type": "stream",
       "stream": "stderr",
       "text": [
        "INFO:neon.params.val_init:Generating GaussianValGen values of shape (200, 200)\n"
       ]
      },
      {
       "output_type": "stream",
       "stream": "stderr",
       "text": [
        "INFO:neon.params.val_init:Generating GaussianValGen values of shape (10, 200)\n"
       ]
      },
      {
       "output_type": "stream",
       "stream": "stderr",
       "text": [
        "INFO:neon.backends:Cudanet backend, RNG seed: 0, numerr: None\n"
       ]
      },
      {
       "output_type": "stream",
       "stream": "stderr",
       "text": [
        "INFO:neon.models.mlp:Layers:\n",
        "\tDataLayer layer: 784 nodes\n",
        "\tFCLayer layer: 784 inputs, 200 nodes, RectLin act_fn\n",
        "\tFCLayer layer: 200 inputs, 200 nodes, RectLin act_fn\n",
        "\tFCLayer layer: 200 inputs, 200 nodes, RectLin act_fn\n",
        "\tFCLayer layer: 200 inputs, 10 nodes, Logistic act_fn\n",
        "\tCostLayer layer: 10 nodes, CrossEntropy cost_fn\n",
        "\n"
       ]
      },
      {
       "output_type": "stream",
       "stream": "stderr",
       "text": [
        "INFO:neon.params.val_init:Generating GaussianValGen values of shape (200, 784)\n"
       ]
      },
      {
       "output_type": "stream",
       "stream": "stderr",
       "text": [
        "INFO:neon.params.val_init:Generating GaussianValGen values of shape (200, 200)\n"
       ]
      },
      {
       "output_type": "stream",
       "stream": "stderr",
       "text": [
        "INFO:neon.params.val_init:Generating GaussianValGen values of shape (200, 200)\n"
       ]
      },
      {
       "output_type": "stream",
       "stream": "stderr",
       "text": [
        "INFO:neon.params.val_init:Generating GaussianValGen values of shape (10, 200)\n"
       ]
      },
      {
       "output_type": "stream",
       "stream": "stderr",
       "text": [
        "INFO:neon.datasets.mnist:loading: train-images-idx3-ubyte\n"
       ]
      },
      {
       "output_type": "stream",
       "stream": "stderr",
       "text": [
        "INFO:neon.datasets.mnist:loading: train-labels-idx1-ubyte\n"
       ]
      },
      {
       "output_type": "stream",
       "stream": "stderr",
       "text": [
        "INFO:neon.datasets.mnist:loading: t10k-images-idx3-ubyte\n"
       ]
      },
      {
       "output_type": "stream",
       "stream": "stderr",
       "text": [
        "INFO:neon.datasets.mnist:loading: t10k-labels-idx1-ubyte\n"
       ]
      },
      {
       "output_type": "stream",
       "stream": "stderr",
       "text": [
        "WARNING:neon.datasets.dataset:Incompatible batch size. Discarding 16 samples...\n"
       ]
      },
      {
       "output_type": "stream",
       "stream": "stderr",
       "text": [
        "WARNING:neon.datasets.dataset:Incompatible batch size. Discarding 96 samples...\n"
       ]
      },
      {
       "output_type": "stream",
       "stream": "stderr",
       "text": [
        "WARNING:neon.datasets.dataset:Incompatible batch size. Discarding 16 samples...\n"
       ]
      },
      {
       "output_type": "stream",
       "stream": "stderr",
       "text": [
        "WARNING:neon.datasets.dataset:Incompatible batch size. Discarding 96 samples...\n"
       ]
      },
      {
       "output_type": "stream",
       "stream": "stderr",
       "text": [
        "INFO:neon.experiments.fit:Unable to find saved model /Users/arjun/data/MNIST/mnist-mlp.prm, starting over\n"
       ]
      },
      {
       "output_type": "stream",
       "stream": "stderr",
       "text": [
        "INFO:neon.models.mlp:commencing model fitting\n"
       ]
      },
      {
       "output_type": "stream",
       "stream": "stderr",
       "text": [
        "INFO:neon.models.mlp:epoch: 0, training error: 1.98806\n"
       ]
      },
      {
       "output_type": "stream",
       "stream": "stderr",
       "text": [
        "WARNING:neon.util.persist:serializing object to: /Users/arjun/data/MNIST/mnist-mlp.prm\n"
       ]
      },
      {
       "output_type": "stream",
       "stream": "stderr",
       "text": [
        "INFO:neon.experiments.fit_predict_err:test set MisclassPercentage_TOP_1 8.54367\n"
       ]
      },
      {
       "output_type": "stream",
       "stream": "stderr",
       "text": [
        "INFO:neon.experiments.fit_predict_err:train set MisclassPercentage_TOP_1 7.92768\n"
       ]
      },
      {
       "output_type": "stream",
       "stream": "stderr",
       "text": [
        "INFO:neon.backends:Cudanet backend, RNG seed: 0, numerr: None\n"
       ]
      },
      {
       "output_type": "stream",
       "stream": "stderr",
       "text": [
        "INFO:neon.models.mlp:Layers:\n",
        "\tDataLayer layer: 784 nodes\n",
        "\tFCLayer layer: 784 inputs, 200 nodes, RectLin act_fn\n",
        "\tFCLayer layer: 200 inputs, 200 nodes, RectLin act_fn\n",
        "\tFCLayer layer: 200 inputs, 200 nodes, RectLin act_fn\n",
        "\tFCLayer layer: 200 inputs, 10 nodes, Logistic act_fn\n",
        "\tCostLayer layer: 10 nodes, CrossEntropy cost_fn\n",
        "\n"
       ]
      },
      {
       "output_type": "stream",
       "stream": "stderr",
       "text": [
        "INFO:neon.params.val_init:Generating GaussianValGen values of shape (200, 784)\n"
       ]
      },
      {
       "output_type": "stream",
       "stream": "stderr",
       "text": [
        "INFO:neon.params.val_init:Generating GaussianValGen values of shape (200, 200)\n"
       ]
      },
      {
       "output_type": "stream",
       "stream": "stderr",
       "text": [
        "INFO:neon.params.val_init:Generating GaussianValGen values of shape (200, 200)\n"
       ]
      },
      {
       "output_type": "stream",
       "stream": "stderr",
       "text": [
        "INFO:neon.params.val_init:Generating GaussianValGen values of shape (10, 200)\n"
       ]
      },
      {
       "output_type": "stream",
       "stream": "stderr",
       "text": [
        "WARNING:neon.util.persist:deserializing object from:  /Users/arjun/data/MNIST/mnist-mlp.prm\n"
       ]
      },
      {
       "output_type": "stream",
       "stream": "stderr",
       "text": [
        "INFO:neon.models.mlp:commencing model fitting\n"
       ]
      },
      {
       "output_type": "stream",
       "stream": "stderr",
       "text": [
        "INFO:neon.models.mlp:epoch: 1, training error: 0.31793\n"
       ]
      },
      {
       "output_type": "stream",
       "stream": "stderr",
       "text": [
        "WARNING:neon.util.persist:serializing object to: /Users/arjun/data/MNIST/mnist-mlp.prm\n"
       ]
      },
      {
       "output_type": "stream",
       "stream": "stderr",
       "text": [
        "INFO:neon.experiments.fit_predict_err:test set MisclassPercentage_TOP_1 3.93630\n"
       ]
      },
      {
       "output_type": "stream",
       "stream": "stderr",
       "text": [
        "INFO:neon.experiments.fit_predict_err:train set MisclassPercentage_TOP_1 3.49225\n"
       ]
      },
      {
       "output_type": "stream",
       "stream": "stderr",
       "text": [
        "INFO:neon.backends:Cudanet backend, RNG seed: 0, numerr: None\n"
       ]
      },
      {
       "output_type": "stream",
       "stream": "stderr",
       "text": [
        "INFO:neon.models.mlp:Layers:\n",
        "\tDataLayer layer: 784 nodes\n",
        "\tFCLayer layer: 784 inputs, 200 nodes, RectLin act_fn\n",
        "\tFCLayer layer: 200 inputs, 200 nodes, RectLin act_fn\n",
        "\tFCLayer layer: 200 inputs, 200 nodes, RectLin act_fn\n",
        "\tFCLayer layer: 200 inputs, 10 nodes, Logistic act_fn\n",
        "\tCostLayer layer: 10 nodes, CrossEntropy cost_fn\n",
        "\n"
       ]
      },
      {
       "output_type": "stream",
       "stream": "stderr",
       "text": [
        "INFO:neon.params.val_init:Generating GaussianValGen values of shape (200, 784)\n"
       ]
      },
      {
       "output_type": "stream",
       "stream": "stderr",
       "text": [
        "INFO:neon.params.val_init:Generating GaussianValGen values of shape (200, 200)\n"
       ]
      },
      {
       "output_type": "stream",
       "stream": "stderr",
       "text": [
        "INFO:neon.params.val_init:Generating GaussianValGen values of shape (200, 200)\n"
       ]
      },
      {
       "output_type": "stream",
       "stream": "stderr",
       "text": [
        "INFO:neon.params.val_init:Generating GaussianValGen values of shape (10, 200)\n"
       ]
      },
      {
       "output_type": "stream",
       "stream": "stderr",
       "text": [
        "WARNING:neon.util.persist:deserializing object from:  /Users/arjun/data/MNIST/mnist-mlp.prm\n"
       ]
      },
      {
       "output_type": "stream",
       "stream": "stderr",
       "text": [
        "INFO:neon.models.mlp:commencing model fitting\n"
       ]
      },
      {
       "output_type": "stream",
       "stream": "stderr",
       "text": [
        "INFO:neon.models.mlp:epoch: 2, training error: 0.22308\n"
       ]
      },
      {
       "output_type": "stream",
       "stream": "stderr",
       "text": [
        "WARNING:neon.util.persist:serializing object to: /Users/arjun/data/MNIST/mnist-mlp.prm\n"
       ]
      },
      {
       "output_type": "stream",
       "stream": "stderr",
       "text": [
        "INFO:neon.experiments.fit_predict_err:test set MisclassPercentage_TOP_1 3.70593\n"
       ]
      },
      {
       "output_type": "stream",
       "stream": "stderr",
       "text": [
        "INFO:neon.experiments.fit_predict_err:train set MisclassPercentage_TOP_1 2.94638\n"
       ]
      },
      {
       "output_type": "stream",
       "stream": "stderr",
       "text": [
        "INFO:neon.backends:Cudanet backend, RNG seed: 0, numerr: None\n"
       ]
      },
      {
       "output_type": "stream",
       "stream": "stderr",
       "text": [
        "INFO:neon.models.mlp:Layers:\n",
        "\tDataLayer layer: 784 nodes\n",
        "\tFCLayer layer: 784 inputs, 200 nodes, RectLin act_fn\n",
        "\tFCLayer layer: 200 inputs, 200 nodes, RectLin act_fn\n",
        "\tFCLayer layer: 200 inputs, 200 nodes, RectLin act_fn\n",
        "\tFCLayer layer: 200 inputs, 10 nodes, Logistic act_fn\n",
        "\tCostLayer layer: 10 nodes, CrossEntropy cost_fn\n",
        "\n"
       ]
      },
      {
       "output_type": "stream",
       "stream": "stderr",
       "text": [
        "INFO:neon.params.val_init:Generating GaussianValGen values of shape (200, 784)\n"
       ]
      },
      {
       "output_type": "stream",
       "stream": "stderr",
       "text": [
        "INFO:neon.params.val_init:Generating GaussianValGen values of shape (200, 200)\n"
       ]
      },
      {
       "output_type": "stream",
       "stream": "stderr",
       "text": [
        "INFO:neon.params.val_init:Generating GaussianValGen values of shape (200, 200)\n"
       ]
      },
      {
       "output_type": "stream",
       "stream": "stderr",
       "text": [
        "INFO:neon.params.val_init:Generating GaussianValGen values of shape (10, 200)\n"
       ]
      },
      {
       "output_type": "stream",
       "stream": "stderr",
       "text": [
        "WARNING:neon.util.persist:deserializing object from:  /Users/arjun/data/MNIST/mnist-mlp.prm\n"
       ]
      },
      {
       "output_type": "stream",
       "stream": "stderr",
       "text": [
        "INFO:neon.models.mlp:commencing model fitting\n"
       ]
      },
      {
       "output_type": "stream",
       "stream": "stderr",
       "text": [
        "INFO:neon.models.mlp:epoch: 3, training error: 0.18462\n"
       ]
      },
      {
       "output_type": "stream",
       "stream": "stderr",
       "text": [
        "WARNING:neon.util.persist:serializing object to: /Users/arjun/data/MNIST/mnist-mlp.prm\n"
       ]
      },
      {
       "output_type": "stream",
       "stream": "stderr",
       "text": [
        "INFO:neon.experiments.fit_predict_err:test set MisclassPercentage_TOP_1 3.24519\n"
       ]
      },
      {
       "output_type": "stream",
       "stream": "stderr",
       "text": [
        "INFO:neon.experiments.fit_predict_err:train set MisclassPercentage_TOP_1 2.38048\n"
       ]
      },
      {
       "output_type": "stream",
       "stream": "stderr",
       "text": [
        "INFO:neon.backends:Cudanet backend, RNG seed: 0, numerr: None\n"
       ]
      },
      {
       "output_type": "stream",
       "stream": "stderr",
       "text": [
        "INFO:neon.models.mlp:Layers:\n",
        "\tDataLayer layer: 784 nodes\n",
        "\tFCLayer layer: 784 inputs, 200 nodes, RectLin act_fn\n",
        "\tFCLayer layer: 200 inputs, 200 nodes, RectLin act_fn\n",
        "\tFCLayer layer: 200 inputs, 200 nodes, RectLin act_fn\n",
        "\tFCLayer layer: 200 inputs, 10 nodes, Logistic act_fn\n",
        "\tCostLayer layer: 10 nodes, CrossEntropy cost_fn\n",
        "\n"
       ]
      },
      {
       "output_type": "stream",
       "stream": "stderr",
       "text": [
        "INFO:neon.params.val_init:Generating GaussianValGen values of shape (200, 784)\n"
       ]
      },
      {
       "output_type": "stream",
       "stream": "stderr",
       "text": [
        "INFO:neon.params.val_init:Generating GaussianValGen values of shape (200, 200)\n"
       ]
      },
      {
       "output_type": "stream",
       "stream": "stderr",
       "text": [
        "INFO:neon.params.val_init:Generating GaussianValGen values of shape (200, 200)\n"
       ]
      },
      {
       "output_type": "stream",
       "stream": "stderr",
       "text": [
        "INFO:neon.params.val_init:Generating GaussianValGen values of shape (10, 200)\n"
       ]
      },
      {
       "output_type": "stream",
       "stream": "stderr",
       "text": [
        "WARNING:neon.util.persist:deserializing object from:  /Users/arjun/data/MNIST/mnist-mlp.prm\n"
       ]
      },
      {
       "output_type": "stream",
       "stream": "stderr",
       "text": [
        "INFO:neon.models.mlp:commencing model fitting\n"
       ]
      },
      {
       "output_type": "stream",
       "stream": "stderr",
       "text": [
        "INFO:neon.models.mlp:epoch: 4, training error: 0.13446\n"
       ]
      },
      {
       "output_type": "stream",
       "stream": "stderr",
       "text": [
        "WARNING:neon.util.persist:serializing object to: /Users/arjun/data/MNIST/mnist-mlp.prm\n"
       ]
      },
      {
       "output_type": "stream",
       "stream": "stderr",
       "text": [
        "INFO:neon.experiments.fit_predict_err:test set MisclassPercentage_TOP_1 2.99479\n"
       ]
      },
      {
       "output_type": "stream",
       "stream": "stderr",
       "text": [
        "INFO:neon.experiments.fit_predict_err:train set MisclassPercentage_TOP_1 1.82626\n"
       ]
      },
      {
       "output_type": "stream",
       "stream": "stderr",
       "text": [
        "INFO:neon.backends:Cudanet backend, RNG seed: 0, numerr: None\n"
       ]
      },
      {
       "output_type": "stream",
       "stream": "stderr",
       "text": [
        "INFO:neon.models.mlp:Layers:\n",
        "\tDataLayer layer: 784 nodes\n",
        "\tFCLayer layer: 784 inputs, 200 nodes, RectLin act_fn\n",
        "\tFCLayer layer: 200 inputs, 200 nodes, RectLin act_fn\n",
        "\tFCLayer layer: 200 inputs, 200 nodes, RectLin act_fn\n",
        "\tFCLayer layer: 200 inputs, 10 nodes, Logistic act_fn\n",
        "\tCostLayer layer: 10 nodes, CrossEntropy cost_fn\n",
        "\n"
       ]
      },
      {
       "output_type": "stream",
       "stream": "stderr",
       "text": [
        "INFO:neon.params.val_init:Generating GaussianValGen values of shape (200, 784)\n"
       ]
      },
      {
       "output_type": "stream",
       "stream": "stderr",
       "text": [
        "INFO:neon.params.val_init:Generating GaussianValGen values of shape (200, 200)\n"
       ]
      },
      {
       "output_type": "stream",
       "stream": "stderr",
       "text": [
        "INFO:neon.params.val_init:Generating GaussianValGen values of shape (200, 200)\n"
       ]
      },
      {
       "output_type": "stream",
       "stream": "stderr",
       "text": [
        "INFO:neon.params.val_init:Generating GaussianValGen values of shape (10, 200)\n"
       ]
      },
      {
       "output_type": "stream",
       "stream": "stderr",
       "text": [
        "WARNING:neon.util.persist:deserializing object from:  /Users/arjun/data/MNIST/mnist-mlp.prm\n"
       ]
      },
      {
       "output_type": "stream",
       "stream": "stderr",
       "text": [
        "INFO:neon.models.mlp:commencing model fitting\n"
       ]
      },
      {
       "output_type": "stream",
       "stream": "stderr",
       "text": [
        "INFO:neon.models.mlp:epoch: 5, training error: 0.11090\n"
       ]
      },
      {
       "output_type": "stream",
       "stream": "stderr",
       "text": [
        "WARNING:neon.util.persist:serializing object to: /Users/arjun/data/MNIST/mnist-mlp.prm\n"
       ]
      },
      {
       "output_type": "stream",
       "stream": "stderr",
       "text": [
        "INFO:neon.experiments.fit_predict_err:test set MisclassPercentage_TOP_1 2.78446\n"
       ]
      },
      {
       "output_type": "stream",
       "stream": "stderr",
       "text": [
        "INFO:neon.experiments.fit_predict_err:train set MisclassPercentage_TOP_1 1.59923\n"
       ]
      },
      {
       "output_type": "stream",
       "stream": "stderr",
       "text": [
        "INFO:neon.backends:Cudanet backend, RNG seed: 0, numerr: None\n"
       ]
      },
      {
       "output_type": "stream",
       "stream": "stderr",
       "text": [
        "INFO:neon.models.mlp:Layers:\n",
        "\tDataLayer layer: 784 nodes\n",
        "\tFCLayer layer: 784 inputs, 200 nodes, RectLin act_fn\n",
        "\tFCLayer layer: 200 inputs, 200 nodes, RectLin act_fn\n",
        "\tFCLayer layer: 200 inputs, 200 nodes, RectLin act_fn\n",
        "\tFCLayer layer: 200 inputs, 10 nodes, Logistic act_fn\n",
        "\tCostLayer layer: 10 nodes, CrossEntropy cost_fn\n",
        "\n"
       ]
      },
      {
       "output_type": "stream",
       "stream": "stderr",
       "text": [
        "INFO:neon.params.val_init:Generating GaussianValGen values of shape (200, 784)\n"
       ]
      },
      {
       "output_type": "stream",
       "stream": "stderr",
       "text": [
        "INFO:neon.params.val_init:Generating GaussianValGen values of shape (200, 200)\n"
       ]
      },
      {
       "output_type": "stream",
       "stream": "stderr",
       "text": [
        "INFO:neon.params.val_init:Generating GaussianValGen values of shape (200, 200)\n"
       ]
      },
      {
       "output_type": "stream",
       "stream": "stderr",
       "text": [
        "INFO:neon.params.val_init:Generating GaussianValGen values of shape (10, 200)\n"
       ]
      },
      {
       "output_type": "stream",
       "stream": "stderr",
       "text": [
        "WARNING:neon.util.persist:deserializing object from:  /Users/arjun/data/MNIST/mnist-mlp.prm\n"
       ]
      },
      {
       "output_type": "stream",
       "stream": "stderr",
       "text": [
        "INFO:neon.models.mlp:commencing model fitting\n"
       ]
      },
      {
       "output_type": "stream",
       "stream": "stderr",
       "text": [
        "INFO:neon.models.mlp:epoch: 6, training error: 0.09527\n"
       ]
      },
      {
       "output_type": "stream",
       "stream": "stderr",
       "text": [
        "WARNING:neon.util.persist:serializing object to: /Users/arjun/data/MNIST/mnist-mlp.prm\n"
       ]
      },
      {
       "output_type": "stream",
       "stream": "stderr",
       "text": [
        "INFO:neon.experiments.fit_predict_err:test set MisclassPercentage_TOP_1 2.60417\n"
       ]
      },
      {
       "output_type": "stream",
       "stream": "stderr",
       "text": [
        "INFO:neon.experiments.fit_predict_err:train set MisclassPercentage_TOP_1 1.36886\n"
       ]
      },
      {
       "output_type": "stream",
       "stream": "stderr",
       "text": [
        "INFO:neon.backends:Cudanet backend, RNG seed: 0, numerr: None\n"
       ]
      },
      {
       "output_type": "stream",
       "stream": "stderr",
       "text": [
        "INFO:neon.models.mlp:Layers:\n",
        "\tDataLayer layer: 784 nodes\n",
        "\tFCLayer layer: 784 inputs, 200 nodes, RectLin act_fn\n",
        "\tFCLayer layer: 200 inputs, 200 nodes, RectLin act_fn\n",
        "\tFCLayer layer: 200 inputs, 200 nodes, RectLin act_fn\n",
        "\tFCLayer layer: 200 inputs, 10 nodes, Logistic act_fn\n",
        "\tCostLayer layer: 10 nodes, CrossEntropy cost_fn\n",
        "\n"
       ]
      },
      {
       "output_type": "stream",
       "stream": "stderr",
       "text": [
        "INFO:neon.params.val_init:Generating GaussianValGen values of shape (200, 784)\n"
       ]
      },
      {
       "output_type": "stream",
       "stream": "stderr",
       "text": [
        "INFO:neon.params.val_init:Generating GaussianValGen values of shape (200, 200)\n"
       ]
      },
      {
       "output_type": "stream",
       "stream": "stderr",
       "text": [
        "INFO:neon.params.val_init:Generating GaussianValGen values of shape (200, 200)\n"
       ]
      },
      {
       "output_type": "stream",
       "stream": "stderr",
       "text": [
        "INFO:neon.params.val_init:Generating GaussianValGen values of shape (10, 200)\n"
       ]
      },
      {
       "output_type": "stream",
       "stream": "stderr",
       "text": [
        "WARNING:neon.util.persist:deserializing object from:  /Users/arjun/data/MNIST/mnist-mlp.prm\n"
       ]
      },
      {
       "output_type": "stream",
       "stream": "stderr",
       "text": [
        "INFO:neon.models.mlp:commencing model fitting\n"
       ]
      },
      {
       "output_type": "stream",
       "stream": "stderr",
       "text": [
        "INFO:neon.models.mlp:epoch: 7, training error: 0.07803\n"
       ]
      },
      {
       "output_type": "stream",
       "stream": "stderr",
       "text": [
        "WARNING:neon.util.persist:serializing object to: /Users/arjun/data/MNIST/mnist-mlp.prm\n"
       ]
      },
      {
       "output_type": "stream",
       "stream": "stderr",
       "text": [
        "INFO:neon.experiments.fit_predict_err:test set MisclassPercentage_TOP_1 2.73438\n"
       ]
      },
      {
       "output_type": "stream",
       "stream": "stderr",
       "text": [
        "INFO:neon.experiments.fit_predict_err:train set MisclassPercentage_TOP_1 1.47403\n"
       ]
      },
      {
       "output_type": "stream",
       "stream": "stderr",
       "text": [
        "INFO:neon.backends:Cudanet backend, RNG seed: 0, numerr: None\n"
       ]
      },
      {
       "output_type": "stream",
       "stream": "stderr",
       "text": [
        "INFO:neon.models.mlp:Layers:\n",
        "\tDataLayer layer: 784 nodes\n",
        "\tFCLayer layer: 784 inputs, 200 nodes, RectLin act_fn\n",
        "\tFCLayer layer: 200 inputs, 200 nodes, RectLin act_fn\n",
        "\tFCLayer layer: 200 inputs, 200 nodes, RectLin act_fn\n",
        "\tFCLayer layer: 200 inputs, 10 nodes, Logistic act_fn\n",
        "\tCostLayer layer: 10 nodes, CrossEntropy cost_fn\n",
        "\n"
       ]
      },
      {
       "output_type": "stream",
       "stream": "stderr",
       "text": [
        "INFO:neon.params.val_init:Generating GaussianValGen values of shape (200, 784)\n"
       ]
      },
      {
       "output_type": "stream",
       "stream": "stderr",
       "text": [
        "INFO:neon.params.val_init:Generating GaussianValGen values of shape (200, 200)\n"
       ]
      },
      {
       "output_type": "stream",
       "stream": "stderr",
       "text": [
        "INFO:neon.params.val_init:Generating GaussianValGen values of shape (200, 200)\n"
       ]
      },
      {
       "output_type": "stream",
       "stream": "stderr",
       "text": [
        "INFO:neon.params.val_init:Generating GaussianValGen values of shape (10, 200)\n"
       ]
      },
      {
       "output_type": "stream",
       "stream": "stderr",
       "text": [
        "WARNING:neon.util.persist:deserializing object from:  /Users/arjun/data/MNIST/mnist-mlp.prm\n"
       ]
      },
      {
       "output_type": "stream",
       "stream": "stderr",
       "text": [
        "INFO:neon.models.mlp:commencing model fitting\n"
       ]
      },
      {
       "output_type": "stream",
       "stream": "stderr",
       "text": [
        "INFO:neon.models.mlp:epoch: 8, training error: 0.07625\n"
       ]
      },
      {
       "output_type": "stream",
       "stream": "stderr",
       "text": [
        "WARNING:neon.util.persist:serializing object to: /Users/arjun/data/MNIST/mnist-mlp.prm\n"
       ]
      },
      {
       "output_type": "stream",
       "stream": "stderr",
       "text": [
        "INFO:neon.experiments.fit_predict_err:test set MisclassPercentage_TOP_1 2.62420\n"
       ]
      },
      {
       "output_type": "stream",
       "stream": "stderr",
       "text": [
        "INFO:neon.experiments.fit_predict_err:train set MisclassPercentage_TOP_1 1.19024\n"
       ]
      },
      {
       "output_type": "stream",
       "stream": "stderr",
       "text": [
        "INFO:neon.backends:Cudanet backend, RNG seed: 0, numerr: None\n"
       ]
      },
      {
       "output_type": "stream",
       "stream": "stderr",
       "text": [
        "INFO:neon.models.mlp:Layers:\n",
        "\tDataLayer layer: 784 nodes\n",
        "\tFCLayer layer: 784 inputs, 200 nodes, RectLin act_fn\n",
        "\tFCLayer layer: 200 inputs, 200 nodes, RectLin act_fn\n",
        "\tFCLayer layer: 200 inputs, 200 nodes, RectLin act_fn\n",
        "\tFCLayer layer: 200 inputs, 10 nodes, Logistic act_fn\n",
        "\tCostLayer layer: 10 nodes, CrossEntropy cost_fn\n",
        "\n"
       ]
      },
      {
       "output_type": "stream",
       "stream": "stderr",
       "text": [
        "INFO:neon.params.val_init:Generating GaussianValGen values of shape (200, 784)\n"
       ]
      },
      {
       "output_type": "stream",
       "stream": "stderr",
       "text": [
        "INFO:neon.params.val_init:Generating GaussianValGen values of shape (200, 200)\n"
       ]
      },
      {
       "output_type": "stream",
       "stream": "stderr",
       "text": [
        "INFO:neon.params.val_init:Generating GaussianValGen values of shape (200, 200)\n"
       ]
      },
      {
       "output_type": "stream",
       "stream": "stderr",
       "text": [
        "INFO:neon.params.val_init:Generating GaussianValGen values of shape (10, 200)\n"
       ]
      },
      {
       "output_type": "stream",
       "stream": "stderr",
       "text": [
        "WARNING:neon.util.persist:deserializing object from:  /Users/arjun/data/MNIST/mnist-mlp.prm\n"
       ]
      },
      {
       "output_type": "stream",
       "stream": "stderr",
       "text": [
        "INFO:neon.models.mlp:commencing model fitting\n"
       ]
      },
      {
       "output_type": "stream",
       "stream": "stderr",
       "text": [
        "INFO:neon.models.mlp:epoch: 9, training error: 0.06536\n"
       ]
      },
      {
       "output_type": "stream",
       "stream": "stderr",
       "text": [
        "WARNING:neon.util.persist:serializing object to: /Users/arjun/data/MNIST/mnist-mlp.prm\n"
       ]
      },
      {
       "output_type": "stream",
       "stream": "stderr",
       "text": [
        "INFO:neon.experiments.fit_predict_err:test set MisclassPercentage_TOP_1 2.57412\n"
       ]
      },
      {
       "output_type": "stream",
       "stream": "stderr",
       "text": [
        "INFO:neon.experiments.fit_predict_err:train set MisclassPercentage_TOP_1 1.23698\n"
       ]
      }
     ],
     "prompt_number": 3
    },
    {
     "cell_type": "markdown",
     "metadata": {},
     "source": [
      "Step 3: Visualize the weights"
     ]
    },
    {
     "cell_type": "code",
     "collapsed": false,
     "input": [
      "import numpy as np\n",
      "from matplotlib import pyplot, cm\n",
      "from IPython.html import widgets\n",
      "from IPython.html.widgets import interact\n",
      "\n",
      "nrows = 10\n",
      "ncols = 20\n",
      "def plot_filters(**kwargs):\n",
      "    n = kwargs['n']\n",
      "    dest_path = expanduser('~/data/MNIST/mnist-ep' + str(n) + '.prm')\n",
      "    params = pkl.load(open(dest_path, 'r'))\n",
      "    if n>0:\n",
      "        wts = params['layer_1']['weights']\n",
      "    else:\n",
      "        wts = params    \n",
      "\n",
      "    fi = 0\n",
      "    W = np.zeros((28*nrows, 28*ncols))\n",
      "    for row, col in [(row, col) for row in range(nrows) for col in range(ncols)]:\n",
      "        W[28*row:28*(row+1):,28*col:28*(col+1)] = wts[fi].reshape(28,28)\n",
      "        fi = fi + 1\n",
      "\n",
      "    pyplot.matshow(W, cmap=cm.gray)\n",
      "    pyplot.title('Visualizing the 1st layer weights')\n",
      "    pyplot.show()\n",
      "    \n",
      "_i = interact(plot_filters,\n",
      "               n=widgets.IntSliderWidget(description='epochs',\n",
      "                                         min=0, max=max_epochs, value=0))\n"
     ],
     "language": "python",
     "metadata": {},
     "outputs": [
      {
       "metadata": {},
       "output_type": "display_data",
       "png": "[encoded data removed]",
       "text": [
        "<matplotlib.figure.Figure at 0x116a5a690>"
       ]
      }
     ],
     "prompt_number": 5
    },
    {
     "cell_type": "markdown",
     "metadata": {},
     "source": [
      "Step 4: Visualize the train and test error"
     ]
    },
    {
     "cell_type": "code",
     "collapsed": false,
     "input": [
      "pyplot.plot(range(1, max_epochs+1), train_err, linewidth=3, label='train')\n",
      "pyplot.plot(range(1, max_epochs+1), test_err, linewidth=3, label='test')\n",
      "pyplot.grid()\n",
      "pyplot.legend()\n",
      "pyplot.xlabel(\"epoch\")\n",
      "pyplot.ylabel(\"error %\")\n",
      "pyplot.show()"
     ],
     "language": "python",
     "metadata": {},
     "outputs": [
      {
       "metadata": {},
       "output_type": "display_data",
       "png": "[encoded data removed]",
       "text": [
        "<matplotlib.figure.Figure at 0x116cc5e90>"
       ]
      }
     ],
     "prompt_number": 6
    },
    {
     "cell_type": "code",
     "collapsed": false,
     "input": [],
     "language": "python",
     "metadata": {},
     "outputs": []
    }
   ],
   "metadata": {}
  }
 ]
}